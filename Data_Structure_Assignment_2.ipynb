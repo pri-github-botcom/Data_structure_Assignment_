{
  "nbformat": 4,
  "nbformat_minor": 0,
  "metadata": {
    "colab": {
      "provenance": []
    },
    "kernelspec": {
      "name": "python3",
      "display_name": "Python 3"
    },
    "language_info": {
      "name": "python"
    }
  },
  "cells": [
    {
      "cell_type": "markdown",
      "source": [
        "# 1) Discuss string slicing and provide examples.\n",
        "\n",
        "\n",
        "### Solution:-\n",
        " String Slicing:- string slicing in Python is about obtaining a sub-string from the given string by slicing it respectively from start to end.\n",
        " String slicing is a way to extract parts of a string by specifying the start and end indices. It allows you access a substring, which is a portion of the origial string.\n",
        "\n",
        " There are two methods of slicing:-\n",
        "\n",
        " 1) Using a slice() method\n",
        "\n",
        "\n",
        " 2) using the list slicing [::] method\n",
        "\n",
        " 1) Using the slice() method:- The slice() constructor creates a slice object representing the set of indices specified by range(start, stop, step).\n",
        " -Strting index where the slicing of object starts. Stops : Ending index where the slicing of object stops. Step: It determines the increment between each index for slicing. Return Type: Return an iterator from the given iterable sequence.\n",
        "\n"
      ],
      "metadata": {
        "id": "Qr28P8V7ce7h"
      }
    },
    {
      "cell_type": "code",
      "source": [
        "# Basic slicing: ommiting start or stop to slice from the beginning or untill the end of the string.\n",
        "s = \"Hello, World!\"\n",
        "print(s[0:5])"
      ],
      "metadata": {
        "colab": {
          "base_uri": "https://localhost:8080/"
        },
        "id": "1uEdiBds6qb2",
        "outputId": "51533a76-fee6-46a5-f7c6-da2ac9c0f2c4"
      },
      "execution_count": null,
      "outputs": [
        {
          "output_type": "stream",
          "name": "stdout",
          "text": [
            "Hello\n"
          ]
        }
      ]
    },
    {
      "cell_type": "code",
      "source": [
        "# using negative indices count from the end of the string.\n",
        "print (s[-6:-1])"
      ],
      "metadata": {
        "colab": {
          "base_uri": "https://localhost:8080/"
        },
        "id": "M-zu6GSA7MqQ",
        "outputId": "8f398c8d-94c1-42b6-8c54-a6354a14cd72"
      },
      "execution_count": null,
      "outputs": [
        {
          "output_type": "stream",
          "name": "stdout",
          "text": [
            "World\n"
          ]
        }
      ]
    },
    {
      "cell_type": "code",
      "source": [
        "# slicing with step: The step argument allows you to skip characters.\n",
        "print(s[::2])"
      ],
      "metadata": {
        "colab": {
          "base_uri": "https://localhost:8080/"
        },
        "id": "w-rqq7Bm8-nf",
        "outputId": "e53344b2-7769-4d9c-df7f-7d4774ee980b"
      },
      "execution_count": null,
      "outputs": [
        {
          "output_type": "stream",
          "name": "stdout",
          "text": [
            "HloWrd\n"
          ]
        }
      ]
    },
    {
      "cell_type": "code",
      "source": [
        "# Reversing a string: Slicing with a negative step.\n",
        "print(s[ ::-1])"
      ],
      "metadata": {
        "colab": {
          "base_uri": "https://localhost:8080/"
        },
        "id": "NUJcpL9E9qfi",
        "outputId": "1cd5de99-f31e-4c6c-e99b-eeea14f42b18"
      },
      "execution_count": null,
      "outputs": [
        {
          "output_type": "stream",
          "name": "stdout",
          "text": [
            "!dlroW olleH\n"
          ]
        }
      ]
    },
    {
      "cell_type": "code",
      "source": [
        "# slicing with both start, stop, and step:\n",
        "print(s[0:10:3])"
      ],
      "metadata": {
        "colab": {
          "base_uri": "https://localhost:8080/"
        },
        "id": "YgnT7E3B-ON8",
        "outputId": "ce051549-285f-4ab4-8057-1c8435bc6adb"
      },
      "execution_count": null,
      "outputs": [
        {
          "output_type": "stream",
          "name": "stdout",
          "text": [
            "HlWl\n"
          ]
        }
      ]
    },
    {
      "cell_type": "markdown",
      "source": [
        "### 2) Using the list slicing method:-\n",
        "\n",
        "List slicing in Python works similarilyto string slicing, allowing to extract specific elements from a list using the start: stop: step format. A common use of slicing is copying a list by ommiting start, stop and using step of 1.\n",
        "\n",
        "example:-\n"
      ],
      "metadata": {
        "id": "FM4fVOkt_rAL"
      }
    },
    {
      "cell_type": "code",
      "source": [
        "numbers=[10,20,30,40,50,60]\n",
        "new_numbers=numbers[:]\n",
        "print(new_numbers)"
      ],
      "metadata": {
        "colab": {
          "base_uri": "https://localhost:8080/"
        },
        "id": "N93AzjybDCtq",
        "outputId": "056f4e54-3c75-496e-daec-b74c90c39cc0"
      },
      "execution_count": null,
      "outputs": [
        {
          "output_type": "stream",
          "name": "stdout",
          "text": [
            "[10, 20, 30, 40, 50, 60]\n"
          ]
        }
      ]
    },
    {
      "cell_type": "markdown",
      "source": [
        "\n",
        "\n",
        "# 2) Explain the key features of lists in Python.\n",
        "\n",
        "Solution:-\n",
        "\n",
        "Lists in Python are versatile, ordered collections of items that can store different types of data. They offer flexibility and wide range of functionalities. Here are the key features of Python lists;\n",
        "\n",
        "1) ordered and Indexed:- Lists maintain the order of elements. The first item has an index f 0, the second 1, and so on. User ans access, modify, or removeitems based on their index.  Example;\n"
      ],
      "metadata": {
        "id": "dZ4ZrrS3EEbJ"
      }
    },
    {
      "cell_type": "code",
      "source": [
        "my_list=[10,20,30,40,50]\n",
        "print(my_list[1])"
      ],
      "metadata": {
        "colab": {
          "base_uri": "https://localhost:8080/"
        },
        "id": "GisBBfBoF1sD",
        "outputId": "4680f3a1-33bb-44a2-e6f4-6dd5fbf5718a"
      },
      "execution_count": null,
      "outputs": [
        {
          "output_type": "stream",
          "name": "stdout",
          "text": [
            "20\n"
          ]
        }
      ]
    },
    {
      "cell_type": "markdown",
      "source": [
        "#### 2) Mutable:- Lists are muatble, meaning user can change their contents after craetion. User can add, update, or remove elements. Example;\n"
      ],
      "metadata": {
        "id": "_nFLJqtkGK3-"
      }
    },
    {
      "cell_type": "code",
      "source": [
        "my_list[0] =100\n",
        "print(my_list)"
      ],
      "metadata": {
        "colab": {
          "base_uri": "https://localhost:8080/"
        },
        "id": "9adGEwKcG0rk",
        "outputId": "a5fdfc79-9307-4a27-c853-81dc6bdefcef"
      },
      "execution_count": null,
      "outputs": [
        {
          "output_type": "stream",
          "name": "stdout",
          "text": [
            "[100, 20, 30, 40, 50]\n"
          ]
        }
      ]
    },
    {
      "cell_type": "markdown",
      "source": [
        "#### 3) Hetrogenous (Mixed data type):- Lists can hold elements of different data types(integers, floats, strings, even other lists). Example;\n"
      ],
      "metadata": {
        "id": "CPaNFnTiHCWU"
      }
    },
    {
      "cell_type": "code",
      "source": [
        "mixed_list=[10,\"python\", 2.8,[1,2,3]]\n",
        "print(mixed_list)"
      ],
      "metadata": {
        "colab": {
          "base_uri": "https://localhost:8080/"
        },
        "id": "rXyBOk9zHq4J",
        "outputId": "fd5bdfbd-0713-4699-e37a-e5a819a742f7"
      },
      "execution_count": null,
      "outputs": [
        {
          "output_type": "stream",
          "name": "stdout",
          "text": [
            "[10, 'python', 2.8, [1, 2, 3]]\n"
          ]
        }
      ]
    },
    {
      "cell_type": "markdown",
      "source": [
        "#### 4) dynamic size:- Lists can grow or shrinkin size dynamically. User can append new elments or remove existing ones. Example;\n"
      ],
      "metadata": {
        "id": "gsXvVfEAIOCg"
      }
    },
    {
      "cell_type": "code",
      "source": [
        "my_list.append(70)\n",
        "print(my_list)"
      ],
      "metadata": {
        "colab": {
          "base_uri": "https://localhost:8080/"
        },
        "id": "L3-fblQgIy9l",
        "outputId": "e1adc031-ab17-4247-af62-1201e82b1a88"
      },
      "execution_count": null,
      "outputs": [
        {
          "output_type": "stream",
          "name": "stdout",
          "text": [
            "[100, 20, 30, 40, 50, 70]\n"
          ]
        }
      ]
    },
    {
      "cell_type": "code",
      "source": [
        "my_list.remove(30)\n",
        "print(my_list)"
      ],
      "metadata": {
        "colab": {
          "base_uri": "https://localhost:8080/"
        },
        "id": "-7LRB0KOJK2x",
        "outputId": "c51e78d1-60ed-4d0c-d52b-4a4e70a54f3b"
      },
      "execution_count": null,
      "outputs": [
        {
          "output_type": "stream",
          "name": "stdout",
          "text": [
            "[100, 20, 40, 50, 70]\n"
          ]
        }
      ]
    },
    {
      "cell_type": "markdown",
      "source": [
        "#### 5) Support for duplicate elements:- Lists can have duplicate items,meaning the same value can appear more than once. Example;\n"
      ],
      "metadata": {
        "id": "YpZAaVjdJuF2"
      }
    },
    {
      "cell_type": "code",
      "source": [
        "duplicate_list=[1,2,2,3,3,3,6,6,7,7,7]\n",
        "print(duplicate_list)"
      ],
      "metadata": {
        "colab": {
          "base_uri": "https://localhost:8080/"
        },
        "id": "PhnNx4z8KNZ6",
        "outputId": "c9ce8b9e-b8ef-4577-c320-420f755effc9"
      },
      "execution_count": null,
      "outputs": [
        {
          "output_type": "stream",
          "name": "stdout",
          "text": [
            "[1, 2, 2, 3, 3, 3, 6, 6, 7, 7, 7]\n"
          ]
        }
      ]
    },
    {
      "cell_type": "markdown",
      "source": [
        "####6)  List slicing:- User can extract sublists using slicing. It follows the start: stop: step format. Example;\n"
      ],
      "metadata": {
        "id": "jGFwKW4EK8iH"
      }
    },
    {
      "cell_type": "code",
      "source": [
        "print(my_list[1:3])"
      ],
      "metadata": {
        "colab": {
          "base_uri": "https://localhost:8080/"
        },
        "id": "diYlrw5bLe7I",
        "outputId": "bc203846-7067-43fa-eaff-cbb6d451bf0e"
      },
      "execution_count": null,
      "outputs": [
        {
          "output_type": "stream",
          "name": "stdout",
          "text": [
            "[20, 40]\n"
          ]
        }
      ]
    },
    {
      "cell_type": "markdown",
      "source": [
        "#### 7) Comprehensions:- List comprehensions provide a concise way to create lists by applying an expression of each item in an iterable. Example;\n"
      ],
      "metadata": {
        "id": "b-bAL088LvMs"
      }
    },
    {
      "cell_type": "code",
      "source": [
        "squares= [x**2 for x in range(5)]\n",
        "print(squares)"
      ],
      "metadata": {
        "colab": {
          "base_uri": "https://localhost:8080/"
        },
        "id": "l-1Nm-q6MF0T",
        "outputId": "d77d4c0c-f523-4e81-e26a-d008b1b4390f"
      },
      "execution_count": null,
      "outputs": [
        {
          "output_type": "stream",
          "name": "stdout",
          "text": [
            "[0, 1, 4, 9, 16]\n"
          ]
        }
      ]
    },
    {
      "cell_type": "markdown",
      "source": [
        "####8) Nested lists:- Lists can contain other lists as elements, allowing you to create multi-dimensional arrays. Example;\n"
      ],
      "metadata": {
        "id": "Xf_lVa9ZMYch"
      }
    },
    {
      "cell_type": "code",
      "source": [
        "nested_list=[[1,2],[3,4],[5,6]]\n",
        "print(nested_list[1])"
      ],
      "metadata": {
        "colab": {
          "base_uri": "https://localhost:8080/"
        },
        "id": "b_FgnK1YO4zW",
        "outputId": "e55c5737-5604-49d2-bda5-d5092427cbc4"
      },
      "execution_count": null,
      "outputs": [
        {
          "output_type": "stream",
          "name": "stdout",
          "text": [
            "[3, 4]\n"
          ]
        }
      ]
    },
    {
      "cell_type": "markdown",
      "source": [
        "#### 9) Iteration:- You can iterate over the elementsof a listusing loop like for or while. Example;\n"
      ],
      "metadata": {
        "id": "t-VeR2ZvPYDb"
      }
    },
    {
      "cell_type": "code",
      "source": [
        "for item in my_list:\n",
        "  print(item)"
      ],
      "metadata": {
        "colab": {
          "base_uri": "https://localhost:8080/"
        },
        "id": "wsyFtSDUPyFm",
        "outputId": "d6e36fd5-b609-4eee-a03a-b05e0b91211b"
      },
      "execution_count": null,
      "outputs": [
        {
          "output_type": "stream",
          "name": "stdout",
          "text": [
            "100\n",
            "20\n",
            "40\n",
            "50\n",
            "70\n"
          ]
        }
      ]
    },
    {
      "cell_type": "markdown",
      "source": [
        "####10)  Membership check:- User can check if an element exists in a list using the in keyword. Example;\n"
      ],
      "metadata": {
        "id": "w4wZEa_EQZOu"
      }
    },
    {
      "cell_type": "code",
      "source": [
        "print(100 in my_list)"
      ],
      "metadata": {
        "colab": {
          "base_uri": "https://localhost:8080/"
        },
        "id": "NVNx1VXvQsoQ",
        "outputId": "596bd49f-47f5-4f2e-8b06-997c5900e6ff"
      },
      "execution_count": null,
      "outputs": [
        {
          "output_type": "stream",
          "name": "stdout",
          "text": [
            "True\n"
          ]
        }
      ]
    },
    {
      "cell_type": "markdown",
      "source": [],
      "metadata": {
        "id": "-gfITEVaRAgQ"
      }
    },
    {
      "cell_type": "markdown",
      "source": [
        "11) List Concatenation:- Lists can be combined using the operator. Example;\n"
      ],
      "metadata": {
        "id": "qmIOan3eRBGj"
      }
    },
    {
      "cell_type": "code",
      "source": [
        "list1=[1,2,3]\n",
        "list2=[4,5,6]\n",
        "result=list1+list2\n",
        "print(result)"
      ],
      "metadata": {
        "colab": {
          "base_uri": "https://localhost:8080/"
        },
        "id": "zH22RXDDRVec",
        "outputId": "2739aeff-f9db-41e4-90e6-2d08f9ed1bae"
      },
      "execution_count": null,
      "outputs": [
        {
          "output_type": "stream",
          "name": "stdout",
          "text": [
            "[1, 2, 3, 4, 5, 6]\n"
          ]
        }
      ]
    },
    {
      "cell_type": "markdown",
      "source": [
        "# 3) Describe how to access, modify and delete the elements in a list with examples.\n",
        "\n",
        "\n",
        "Solution:-\n",
        "\n",
        "In Python, lists are mutable, which means their elements can be accessed, modified and deleted. As;\n",
        "\n",
        "1) Accessing Elements in a list:- User can access elementsusing their index. Python uses zero-basd indexing, meaning the first elementis at index 0.\n",
        "Example;\n",
        "\n",
        "\n"
      ],
      "metadata": {
        "id": "cSf9aRoyTB7J"
      }
    },
    {
      "cell_type": "code",
      "source": [
        "my_list=[10,20,30,40,50]\n",
        "print(my_list[0])"
      ],
      "metadata": {
        "colab": {
          "base_uri": "https://localhost:8080/"
        },
        "id": "SaLp7OwffyWM",
        "outputId": "b6e7e661-0035-4b05-85da-bdee16db6140"
      },
      "execution_count": null,
      "outputs": [
        {
          "output_type": "stream",
          "name": "stdout",
          "text": [
            "10\n"
          ]
        }
      ]
    },
    {
      "cell_type": "code",
      "source": [
        "print(my_list[2])"
      ],
      "metadata": {
        "colab": {
          "base_uri": "https://localhost:8080/"
        },
        "id": "e5Wg9nQmgNGm",
        "outputId": "52af184d-484a-4d79-d219-3369d5f280d7"
      },
      "execution_count": null,
      "outputs": [
        {
          "output_type": "stream",
          "name": "stdout",
          "text": [
            "30\n"
          ]
        }
      ]
    },
    {
      "cell_type": "code",
      "source": [
        "print(my_list[-1])"
      ],
      "metadata": {
        "colab": {
          "base_uri": "https://localhost:8080/"
        },
        "id": "boQyr-Wsg1qz",
        "outputId": "b1d02424-051a-4cef-8d2c-0ac3ba088ed4"
      },
      "execution_count": null,
      "outputs": [
        {
          "output_type": "stream",
          "name": "stdout",
          "text": [
            "50\n"
          ]
        }
      ]
    },
    {
      "cell_type": "markdown",
      "source": [
        "# 2) Modifying Elements in a list:- User can modify elements by assigning new values to specific indices. Example;\n"
      ],
      "metadata": {
        "id": "f5IQAfkIhPe_"
      }
    },
    {
      "cell_type": "code",
      "source": [
        "my_list=[10,20,30,40,50]\n",
        "my_list[1]=25\n",
        "print(my_list)"
      ],
      "metadata": {
        "colab": {
          "base_uri": "https://localhost:8080/"
        },
        "id": "C9A9Po5Sh3oS",
        "outputId": "45b3918f-1039-4477-fcdb-78ef2bcd0c9d"
      },
      "execution_count": null,
      "outputs": [
        {
          "output_type": "stream",
          "name": "stdout",
          "text": [
            "[10, 25, 30, 40, 50]\n"
          ]
        }
      ]
    },
    {
      "cell_type": "markdown",
      "source": [
        "3) Deleting Elements from a list:- User can delete elements using the del statement, remove(), or pop() methods.\n",
        "\n",
        "Using del:\n"
      ],
      "metadata": {
        "id": "3cvbUavxiU3k"
      }
    },
    {
      "cell_type": "code",
      "source": [
        "my_list=[10,20,30,40,50]\n",
        "del my_list[1] #delete the second element\n",
        "print(my_list)"
      ],
      "metadata": {
        "colab": {
          "base_uri": "https://localhost:8080/"
        },
        "id": "ummobQm5jCH3",
        "outputId": "f85af7b9-b8aa-412b-cf4a-3ca35f4d3f12"
      },
      "execution_count": null,
      "outputs": [
        {
          "output_type": "stream",
          "name": "stdout",
          "text": [
            "[10, 30, 40, 50]\n"
          ]
        }
      ]
    },
    {
      "cell_type": "markdown",
      "source": [
        "using remove()(deletes by value):"
      ],
      "metadata": {
        "id": "uAcZorGijhjJ"
      }
    },
    {
      "cell_type": "code",
      "source": [
        "my_list=[10,20,30,40,50]\n",
        "my_list.remove(30) # remove the element with value30\n",
        "print(my_list)"
      ],
      "metadata": {
        "colab": {
          "base_uri": "https://localhost:8080/"
        },
        "id": "wKTHgWqXjsZN",
        "outputId": "ee39e9eb-40e3-47d2-b812-d61b3b01aefc"
      },
      "execution_count": null,
      "outputs": [
        {
          "output_type": "stream",
          "name": "stdout",
          "text": [
            "[10, 20, 40, 50]\n"
          ]
        }
      ]
    },
    {
      "cell_type": "markdown",
      "source": [
        "Using pop() (deletes by index):\n"
      ],
      "metadata": {
        "id": "hvyy0tTokLPo"
      }
    },
    {
      "cell_type": "code",
      "source": [
        "my_list=[10,20,30,40,50]\n",
        "my_list.pop(3) # removes the element at index 3\n",
        "print(my_list)"
      ],
      "metadata": {
        "colab": {
          "base_uri": "https://localhost:8080/"
        },
        "id": "ToN3tlcVkX9C",
        "outputId": "34b0bd73-5076-4a48-9b37-a358b7d8df75"
      },
      "execution_count": null,
      "outputs": [
        {
          "output_type": "stream",
          "name": "stdout",
          "text": [
            "[10, 20, 30, 50]\n"
          ]
        }
      ]
    },
    {
      "cell_type": "markdown",
      "source": [
        "Use of pop() without an index to remove the last element:\n"
      ],
      "metadata": {
        "id": "yK6T8jcMlNN_"
      }
    },
    {
      "cell_type": "code",
      "source": [
        "my_list=[10,20,30,40,50]\n",
        "my_list.pop() #remove the last element\n",
        "print(my_list)"
      ],
      "metadata": {
        "colab": {
          "base_uri": "https://localhost:8080/"
        },
        "id": "JvF6ntKJlZMM",
        "outputId": "eae410b0-eb30-47b9-bc52-31a27329d7b4"
      },
      "execution_count": null,
      "outputs": [
        {
          "output_type": "stream",
          "name": "stdout",
          "text": [
            "[10, 20, 30, 40]\n"
          ]
        }
      ]
    },
    {
      "cell_type": "markdown",
      "source": [
        "\n",
        "\n",
        "# 4) Compare and contrast tuples and lists with examples.\n",
        "\n",
        "Solution:-\n",
        "\n",
        "Both tuples and lists in Python are used to store collections of items. However, they have somekey differences in terms of mutability, syntax and use cases. As;\n",
        "\n",
        "1) Mutability:-\n",
        "\n",
        "* Tuples are immutabl, meaning once created, their elements cannot be changed(no modification, addition, or deletionof elements).\n",
        "\n",
        "* Lists are mutable, meaning their elements can be modified after creation( elements can be added, removed or changed).\n",
        "\n",
        "Example;\n"
      ],
      "metadata": {
        "id": "QrHZmB27l1JF"
      }
    },
    {
      "cell_type": "code",
      "source": [
        "#Tuple (immutable)\n",
        "my_tuple=(1,2,3)\n",
        "# my_tuple[0]=10 #This will raise a type error as tuples cannot be modified."
      ],
      "metadata": {
        "id": "Qv8pxURXo_Q4"
      },
      "execution_count": null,
      "outputs": []
    },
    {
      "cell_type": "code",
      "source": [
        "# List (mutable)\n",
        "my_list=[1,2,3]\n",
        "my_list[0]=10\n",
        "print(my_list)"
      ],
      "metadata": {
        "colab": {
          "base_uri": "https://localhost:8080/"
        },
        "id": "e___z8_nps4n",
        "outputId": "bf1ae86f-c9e4-4a5e-8790-308c94ec67b4"
      },
      "execution_count": null,
      "outputs": [
        {
          "output_type": "stream",
          "name": "stdout",
          "text": [
            "[10, 2, 3]\n"
          ]
        }
      ]
    },
    {
      "cell_type": "markdown",
      "source": [
        "2) Syntax:\n",
        "\n",
        "* Tuples are defined using parentheses ().\n",
        "\n",
        "* Lists are defined using square brackets []."
      ],
      "metadata": {
        "id": "xVGzTaJjqJIM"
      }
    },
    {
      "cell_type": "code",
      "source": [
        "my_tuple=(1,2,3)\n",
        "my_list[1,2,3]"
      ],
      "metadata": {
        "id": "wMt1eLFlquhV"
      },
      "execution_count": null,
      "outputs": []
    },
    {
      "cell_type": "markdown",
      "source": [
        "3) Performance:\n",
        "\n",
        "* Tuples have a slightly better performance compared to lists because of their immutabilty. This can be useful when dealing with large collections of data that don't use modification.\n",
        "\n",
        "* Lists may be slightly slower due to the overhead of supporting changes (adding/removing elements).\n",
        "\n",
        "4) Use Cases:\n",
        "\n",
        "Tuples are often used to store fixed collection of items, such as coordinates, days of the week, or any other data that should remain constant throughout the progrm.\n",
        "\n",
        "* Lists are used when the data collection is, dynamic, and elements to be added, removed, or modified frequently.\n"
      ],
      "metadata": {
        "id": "d1Sd4_i0q4eP"
      }
    },
    {
      "cell_type": "code",
      "source": [
        "# Tuples are fixed data(coordinates\n",
        "coordinates= (10.5, 20.3')"
      ],
      "metadata": {
        "id": "Sl5g2NT9sS71"
      },
      "execution_count": null,
      "outputs": []
    },
    {
      "cell_type": "code",
      "source": [
        "# Lists for dynamic data ( shopping list)\n",
        "shopping_list= ['apple', 'banana']\n",
        "shopping_list.append('pomegranate') # Adding a new element\n",
        "print(shopping_list)"
      ],
      "metadata": {
        "colab": {
          "base_uri": "https://localhost:8080/"
        },
        "id": "N-P2v4RCsqtC",
        "outputId": "f237cd24-a72c-41f5-8ff8-ba639c2845cd"
      },
      "execution_count": null,
      "outputs": [
        {
          "output_type": "stream",
          "name": "stdout",
          "text": [
            "['apple', 'banana', 'pomegranate']\n"
          ]
        }
      ]
    },
    {
      "cell_type": "markdown",
      "source": [
        "5) Methods Available:\n",
        "\n",
        "* Tuple supports fewer methods like count() and index() due to immutability.\n",
        "\n",
        "* Lists have a wide range of methods as append(), extend(), remove() etc. because they are mutable.\n",
        "\n",
        "Example:\n"
      ],
      "metadata": {
        "id": "mqv9stOOtmZX"
      }
    },
    {
      "cell_type": "code",
      "source": [
        "#Tuple methods\n",
        "my_tuple= (1,2,2,3)\n",
        "print(my_tuple.count(2)) # for number of times 2 appears"
      ],
      "metadata": {
        "colab": {
          "base_uri": "https://localhost:8080/"
        },
        "id": "mgxXSZZWuswz",
        "outputId": "3a1f1252-c4a8-4075-867a-8fce811fbdc4"
      },
      "execution_count": null,
      "outputs": [
        {
          "output_type": "stream",
          "name": "stdout",
          "text": [
            "2\n"
          ]
        }
      ]
    },
    {
      "cell_type": "code",
      "source": [
        "print(my_tuple.index(3)) # index of value 3"
      ],
      "metadata": {
        "colab": {
          "base_uri": "https://localhost:8080/"
        },
        "id": "sB5i2mUyvLDn",
        "outputId": "27d63c33-2318-496e-aa43-756672e43a29"
      },
      "execution_count": null,
      "outputs": [
        {
          "output_type": "stream",
          "name": "stdout",
          "text": [
            "3\n"
          ]
        }
      ]
    },
    {
      "cell_type": "code",
      "source": [
        "#Lists methods\n",
        "my_list=[1,2,3]\n",
        "my_list.append(4) #adding a new element\n",
        "my_list.remove(2) #removing element\n",
        "print(my_list)"
      ],
      "metadata": {
        "colab": {
          "base_uri": "https://localhost:8080/"
        },
        "id": "1JettXbSvhqH",
        "outputId": "6f68c4ba-d886-4c62-f924-404b110f3139"
      },
      "execution_count": null,
      "outputs": [
        {
          "output_type": "stream",
          "name": "stdout",
          "text": [
            "[1, 3, 4]\n"
          ]
        }
      ]
    },
    {
      "cell_type": "markdown",
      "source": [
        "6) size:\n",
        "\n",
        "* Tuples usually take up less memeory than lists of the same size, as tuples are immutable and dont need to allocate extra memeory for operations like resizing.\n",
        "\n",
        "* Lists take up more memeory due to the overhead required for mutability.\n"
      ],
      "metadata": {
        "id": "8ML1R3CdyKvG"
      }
    },
    {
      "cell_type": "markdown",
      "source": [
        "\n",
        "\n",
        "\n",
        "# 5) Describe the key features of sets and provide examples of their use.\n",
        "\n",
        "\n",
        "### solution;\n",
        "\n",
        "In Python, set is an unordered collection of unique elements. Unlike lists are tuples, sets do not allow duplicate values and are primarily used when the presence of an item in a collection matters more than its position or frequency. Here are the key features of sets:-\n",
        "\n",
        "1) Unordered:\n",
        "\n",
        "sets do not maintain the order of the elements, meaning elements are stored in an arbitrary order, and they cannot be accessed using an index likelists or tuples.\n",
        "\n",
        "Example;"
      ],
      "metadata": {
        "id": "lrF_PoJLzI07"
      }
    },
    {
      "cell_type": "code",
      "source": [
        "my_set= {1,3,2,4,5}\n",
        "print(my_set) #order may vary"
      ],
      "metadata": {
        "colab": {
          "base_uri": "https://localhost:8080/"
        },
        "id": "Ii3ATZ9A21Nl",
        "outputId": "e0eb8fa0-44b5-420c-e40b-a36d82318053"
      },
      "execution_count": null,
      "outputs": [
        {
          "output_type": "stream",
          "name": "stdout",
          "text": [
            "{1, 2, 3, 4, 5}\n"
          ]
        }
      ]
    },
    {
      "cell_type": "markdown",
      "source": [
        "2) Unique elements:\n",
        "\n",
        "Sets automatically removes duplicates. If you add an element that already exists in the set, it will not be added again.\n",
        "\n",
        "Example;"
      ],
      "metadata": {
        "id": "DIKwZ-Rs3TYm"
      }
    },
    {
      "cell_type": "code",
      "source": [
        "my_set= {1,2,2,3,4,4,4,5,'hello', 'hello'}\n",
        "print(my_set)"
      ],
      "metadata": {
        "colab": {
          "base_uri": "https://localhost:8080/"
        },
        "id": "NM7_-5g932ky",
        "outputId": "e4ce0b04-32ef-4d11-e9e1-6ef2aba2b559"
      },
      "execution_count": null,
      "outputs": [
        {
          "output_type": "stream",
          "name": "stdout",
          "text": [
            "{1, 2, 3, 4, 5, 'hello'}\n"
          ]
        }
      ]
    },
    {
      "cell_type": "markdown",
      "source": [
        "3) Mutable:\n",
        "\n",
        "The set itself is mutable, meaning you can add or removeelements after creation. However the elements inside the set must be immutable types like integers, strings, or tuples(not lists or dictionaries.\n",
        "\n",
        "Example;"
      ],
      "metadata": {
        "id": "wfs3Pj6I4vUV"
      }
    },
    {
      "cell_type": "code",
      "source": [
        "my_set={1,2,3}\n",
        "my_set.add(4) # add new element\n",
        "print(my_set)"
      ],
      "metadata": {
        "colab": {
          "base_uri": "https://localhost:8080/"
        },
        "id": "ces1-Ujt-ICC",
        "outputId": "58e8bb4a-3c2d-4978-ba28-585027293615"
      },
      "execution_count": null,
      "outputs": [
        {
          "output_type": "stream",
          "name": "stdout",
          "text": [
            "{1, 2, 3, 4}\n"
          ]
        }
      ]
    },
    {
      "cell_type": "markdown",
      "source": [
        "4) No Indexing or Slicing:\n",
        "\n",
        "Since sets are unordered, you cannot access elements using an index. You can only check formembership or iterate through the set.\n",
        "\n",
        "Example;"
      ],
      "metadata": {
        "id": "DDXEwvOr-fLS"
      }
    },
    {
      "cell_type": "code",
      "source": [
        "my_set= {1,2,3}\n",
        "# print(my_set[0]) # This will raise a TypeError"
      ],
      "metadata": {
        "id": "-IU8-ZQD-73h"
      },
      "execution_count": null,
      "outputs": []
    },
    {
      "cell_type": "markdown",
      "source": [
        "5) Efficient Membership Testing:\n",
        "\n",
        "Sets are optimized for checking if an element exists in the collection (using the in keyword). This is faster than using lists, especially for large data set.\n",
        "\n",
        "Example:"
      ],
      "metadata": {
        "id": "q1t9Giid_XJh"
      }
    },
    {
      "cell_type": "code",
      "source": [
        "my_set= {1,2,3,4}\n",
        "print(2 in my_set)"
      ],
      "metadata": {
        "colab": {
          "base_uri": "https://localhost:8080/"
        },
        "id": "HZ9jXx2a__HK",
        "outputId": "11e4c3d6-2cab-4b6c-89ac-415303c5a215"
      },
      "execution_count": null,
      "outputs": [
        {
          "output_type": "stream",
          "name": "stdout",
          "text": [
            "True\n"
          ]
        }
      ]
    },
    {
      "cell_type": "code",
      "source": [
        "print(5 in my_set)"
      ],
      "metadata": {
        "colab": {
          "base_uri": "https://localhost:8080/"
        },
        "id": "rW5A7F_eAO8r",
        "outputId": "56d50a12-6e78-4c48-a890-d4666bf3c940"
      },
      "execution_count": null,
      "outputs": [
        {
          "output_type": "stream",
          "name": "stdout",
          "text": [
            "False\n"
          ]
        }
      ]
    },
    {
      "cell_type": "markdown",
      "source": [
        "6) Set operations:\n",
        "Sets supports mathematical set operations like;\n",
        "\n",
        "*Union:- Elements are present in both the sets."
      ],
      "metadata": {
        "id": "eEPgAYSQAdo5"
      }
    },
    {
      "cell_type": "code",
      "source": [
        "set1= {1,2,3}\n",
        "set2= {3,4,5}\n",
        "print(set1.union(set2))"
      ],
      "metadata": {
        "colab": {
          "base_uri": "https://localhost:8080/"
        },
        "id": "m93BynVXBTX2",
        "outputId": "6bd8e482-506d-4a88-89d1-2767491ae177"
      },
      "execution_count": null,
      "outputs": [
        {
          "output_type": "stream",
          "name": "stdout",
          "text": [
            "{1, 2, 3, 4, 5}\n"
          ]
        }
      ]
    },
    {
      "cell_type": "markdown",
      "source": [
        "*Intersection: Elements common to both sets."
      ],
      "metadata": {
        "id": "9F0WJeRtCkZO"
      }
    },
    {
      "cell_type": "code",
      "source": [
        "print(set1.intersection(set2))"
      ],
      "metadata": {
        "colab": {
          "base_uri": "https://localhost:8080/"
        },
        "id": "8ZhLYaYZCxIt",
        "outputId": "ac0328f0-b53a-40a2-d9aa-81157df65481"
      },
      "execution_count": null,
      "outputs": [
        {
          "output_type": "stream",
          "name": "stdout",
          "text": [
            "{3}\n"
          ]
        }
      ]
    },
    {
      "cell_type": "markdown",
      "source": [
        "*Difference:- Elements in set1 but not in set2."
      ],
      "metadata": {
        "id": "5OjxbCmsDOJJ"
      }
    },
    {
      "cell_type": "code",
      "source": [
        "print(set1.difference(set2))"
      ],
      "metadata": {
        "colab": {
          "base_uri": "https://localhost:8080/"
        },
        "id": "YnUJn41xDbpf",
        "outputId": "881ebfe7-229d-4bd3-e0b3-56ad8d333aa7"
      },
      "execution_count": null,
      "outputs": [
        {
          "output_type": "stream",
          "name": "stdout",
          "text": [
            "{1, 2}\n"
          ]
        }
      ]
    },
    {
      "cell_type": "markdown",
      "source": [
        "*Symmetric Difference:- Elements in either set, but not in both."
      ],
      "metadata": {
        "id": "OZzHWgv2Dqce"
      }
    },
    {
      "cell_type": "code",
      "source": [
        "print(set1^set2)"
      ],
      "metadata": {
        "colab": {
          "base_uri": "https://localhost:8080/"
        },
        "id": "lnQ1qQcBEFD6",
        "outputId": "e737b43a-01cd-47ee-b8af-4051f7f9cb74"
      },
      "execution_count": null,
      "outputs": [
        {
          "output_type": "stream",
          "name": "stdout",
          "text": [
            "{1, 2, 4, 5}\n"
          ]
        }
      ]
    },
    {
      "cell_type": "markdown",
      "source": [
        "\n",
        "\n",
        "\n",
        "#6)  Discuss the use cases of Tuples and sets in Python programmimg.\n",
        "\n",
        "solution:\n",
        "\n",
        "Use cases of Tuples in Python ;\n",
        "\n",
        "1) Fixed data collection:- Tuples are often used when a collection of data should not change. They are great for storing constantdata like days of week, coordinates, or configuration setting that you dont want to accidently modify.\n",
        "Example;"
      ],
      "metadata": {
        "id": "CNJ3wTqpFNRv"
      }
    },
    {
      "cell_type": "code",
      "source": [
        "_days_of_week =('monday', 'tuesday', 'wednesday', 'thursday', 'friday', 'saturday', 'sunday')"
      ],
      "metadata": {
        "id": "AiYqRkRxJjcQ"
      },
      "execution_count": null,
      "outputs": []
    },
    {
      "cell_type": "markdown",
      "source": [
        "2) Function returns with multiple values:- Functions can return multiple values using a tuple, which allows the caller to unpack them easily."
      ],
      "metadata": {
        "id": "3lZa-D-5KGbT"
      }
    },
    {
      "cell_type": "code",
      "source": [
        "def get_coordinates():\n",
        "  return(12.7, 55.3)\n",
        "  x,y= get_coordinates()"
      ],
      "metadata": {
        "id": "CGUIrxBWKeMB"
      },
      "execution_count": null,
      "outputs": []
    },
    {
      "cell_type": "markdown",
      "source": [
        "3) Dictionary Keys:- Tuples can be used as keys in dictionaries because they are immutable. This is useful when you want to map a combination of values.( e.g., coordinates, points in a graph) to other value."
      ],
      "metadata": {
        "id": "-sL6pdP1LNMz"
      }
    },
    {
      "cell_type": "code",
      "source": [
        "coordinates_map= {(13.6, 43.5):\n",
        "\"Location A\", (22.4, 16.8):\n",
        "\"Location B\"}\n",
        "print(coordinates_map[(13.6, 43.5)])"
      ],
      "metadata": {
        "colab": {
          "base_uri": "https://localhost:8080/"
        },
        "id": "LNXMZ80JL1PP",
        "outputId": "97aac298-0657-4281-8e12-bfb6a53bc594"
      },
      "execution_count": null,
      "outputs": [
        {
          "output_type": "stream",
          "name": "stdout",
          "text": [
            "Location A\n"
          ]
        }
      ]
    },
    {
      "cell_type": "markdown",
      "source": [
        "4) Grouping related data:- Tuples are great for grouping together related but distinct pieces of data. For example; you can group an employee's name, age and role in a tuple."
      ],
      "metadata": {
        "id": "sBiGHjXkNGW7"
      }
    },
    {
      "cell_type": "code",
      "source": [
        "employee= ('Priyanka Sharma', 28, 'Data Scientist')\n",
        "print(employee[0])"
      ],
      "metadata": {
        "colab": {
          "base_uri": "https://localhost:8080/"
        },
        "id": "jgAMKjeZNs0v",
        "outputId": "cd2e0f54-a8a8-44b8-f97a-8c8cd3a48e1c"
      },
      "execution_count": null,
      "outputs": [
        {
          "output_type": "stream",
          "name": "stdout",
          "text": [
            "Priyanka Sharma\n"
          ]
        }
      ]
    },
    {
      "cell_type": "markdown",
      "source": [
        "5) Iterating through fixed sequences:- Tuples can be used when you have a fixed sequence of items to iterate through, ensuring that the elements of the collection remains unchanged during the iteration. Example:"
      ],
      "metadata": {
        "id": "ho6wrguMOMzy"
      }
    },
    {
      "cell_type": "code",
      "source": [
        "my_tuple= (1,2,3,4)\n",
        "for item in my_tuple:\n",
        "  print(item)"
      ],
      "metadata": {
        "colab": {
          "base_uri": "https://localhost:8080/"
        },
        "id": "J_9JbbhWOz7t",
        "outputId": "bc463e55-b53e-43c1-f4d7-6ba69ade5132"
      },
      "execution_count": null,
      "outputs": [
        {
          "output_type": "stream",
          "name": "stdout",
          "text": [
            "1\n",
            "2\n",
            "3\n",
            "4\n"
          ]
        }
      ]
    },
    {
      "cell_type": "markdown",
      "source": [
        "## Use Cases of Sets in Python:-\n",
        "\n",
        "1) Removing Duplicates:- One of the most common use cases of sets is to remove duplicates from a list or any iterable. Since sets automatically discard duplicate elements, they are ideal for cleaning data. Example;\n"
      ],
      "metadata": {
        "id": "m7r3es6mPMkK"
      }
    },
    {
      "cell_type": "code",
      "source": [
        "items= [1,2,2,2,3,3,4,5,5]\n",
        "unique_items = set(items)\n",
        "print(unique_items)"
      ],
      "metadata": {
        "colab": {
          "base_uri": "https://localhost:8080/"
        },
        "id": "Ii-j_GxnQt6g",
        "outputId": "950904a3-89c7-447e-aa62-d878640030cc"
      },
      "execution_count": null,
      "outputs": [
        {
          "output_type": "stream",
          "name": "stdout",
          "text": [
            "{1, 2, 3, 4, 5}\n"
          ]
        }
      ]
    },
    {
      "cell_type": "markdown",
      "source": [
        "2) Membership Testing:- Sets provide a highly efficientway to check whether an element is present in a collection. This is useful when you need to perform frequent lookups, as checking membership in a set is much faster than in a list.Example:"
      ],
      "metadata": {
        "id": "qMRt0ZcLRTQo"
      }
    },
    {
      "cell_type": "code",
      "source": [
        "allowed_users= {'Ram', 'Sham', 'Mohan'}\n",
        "if 'Ram' in allowed_users:\n",
        "  print('welcome Ram')"
      ],
      "metadata": {
        "colab": {
          "base_uri": "https://localhost:8080/"
        },
        "id": "fWW0JR9zR84p",
        "outputId": "977c119c-d1da-4c64-89c6-8dc5613c91b4"
      },
      "execution_count": null,
      "outputs": [
        {
          "output_type": "stream",
          "name": "stdout",
          "text": [
            "welcome Ram\n"
          ]
        }
      ]
    },
    {
      "cell_type": "markdown",
      "source": [
        "3) Mathematical Set Operations(Union, Intersection, Difference):- Sets are particularily used for performming operations like union, intersection, difference, and symmetric difference. These operations are useful for coding with multiple collections of items and need to find commanalities and differences. Example;"
      ],
      "metadata": {
        "id": "I8u3ZDMES3TU"
      }
    },
    {
      "cell_type": "code",
      "source": [
        "set1= {1,2,3}\n",
        "set2= {3,4,5}\n",
        "# intersection: common elements\n",
        "common= set1.intersection(set2)\n",
        "print(common)"
      ],
      "metadata": {
        "colab": {
          "base_uri": "https://localhost:8080/"
        },
        "id": "X_mF9_xbT07R",
        "outputId": "28af7fcf-a88c-453e-86f7-8ac4222c1829"
      },
      "execution_count": null,
      "outputs": [
        {
          "output_type": "stream",
          "name": "stdout",
          "text": [
            "{3}\n"
          ]
        }
      ]
    },
    {
      "cell_type": "code",
      "source": [
        "# union: all unique elements from both sets\n",
        "all_elements= set1.union(set2)\n",
        "print(all_elements)"
      ],
      "metadata": {
        "colab": {
          "base_uri": "https://localhost:8080/"
        },
        "id": "IQMp8U17UfZS",
        "outputId": "8cd36b62-956b-4645-a01e-3b359ac4eeb2"
      },
      "execution_count": null,
      "outputs": [
        {
          "output_type": "stream",
          "name": "stdout",
          "text": [
            "{1, 2, 3, 4, 5}\n"
          ]
        }
      ]
    },
    {
      "cell_type": "markdown",
      "source": [
        "4) Eliminating Duplicate Enteries in a Database:- When processing data (like from a CSV file). You might have duplicates and work with unique records. Example:"
      ],
      "metadata": {
        "id": "84bQlfFpVOrg"
      }
    },
    {
      "cell_type": "code",
      "source": [
        "records= ['user1', 'user2', 'user1', 'user4']\n",
        "unique_records= set(records)\n",
        "print(unique_records)"
      ],
      "metadata": {
        "colab": {
          "base_uri": "https://localhost:8080/"
        },
        "id": "EH1ZQ_uSWR47",
        "outputId": "33ba57ea-ce51-4a61-d9c7-9dd335b79138"
      },
      "execution_count": null,
      "outputs": [
        {
          "output_type": "stream",
          "name": "stdout",
          "text": [
            "{'user1', 'user4', 'user2'}\n"
          ]
        }
      ]
    },
    {
      "cell_type": "markdown",
      "source": [
        "5) Finding Unique Characters in a String:- Sets can quickly identify all unique characters in a string, which can be useful tasks like validating input or analyzing text data. Example;"
      ],
      "metadata": {
        "id": "evOpreBsXFOn"
      }
    },
    {
      "cell_type": "code",
      "source": [
        "sentence= 'hello world'\n",
        "unique_chars= set(sentence)\n",
        "print(unique_chars)"
      ],
      "metadata": {
        "colab": {
          "base_uri": "https://localhost:8080/"
        },
        "id": "5-6UEfdYXxSm",
        "outputId": "531ef09e-ada5-4398-d79e-8e6ccc6c2253"
      },
      "execution_count": null,
      "outputs": [
        {
          "output_type": "stream",
          "name": "stdout",
          "text": [
            "{'h', 'w', 'r', 'o', 'd', 'l', 'e', ' '}\n"
          ]
        }
      ]
    },
    {
      "cell_type": "markdown",
      "source": [
        "6) Data Filtering:- Sets can be used to filter data efficiently by removing unwanted elements based on some criteria or reference. For example, you can use set operations to filter out blocked users from a social network. Example;\n"
      ],
      "metadata": {
        "id": "8kD3dcXpYSw9"
      }
    },
    {
      "cell_type": "code",
      "source": [
        "all_users= {'Ram', 'Sham', 'Mohan', 'Sohan'}\n",
        "blocked_users={'Mohan', 'Sohan'}\n",
        "active_users= all_users.difference(blocked_users)\n",
        "print(active_users)"
      ],
      "metadata": {
        "colab": {
          "base_uri": "https://localhost:8080/"
        },
        "id": "F4O95dUcZPMy",
        "outputId": "f3e121cd-3a1d-40f3-b1c6-84b32cf26cb1"
      },
      "execution_count": null,
      "outputs": [
        {
          "output_type": "stream",
          "name": "stdout",
          "text": [
            "{'Sham', 'Ram'}\n"
          ]
        }
      ]
    },
    {
      "cell_type": "markdown",
      "source": [
        "\n",
        "\n",
        "# 7) Describe how to add, modify and delete items in a dictionary with examples.\n",
        "\n",
        "Solution:\n",
        "\n",
        "In Python, a dictionary is a  collection of jey-value pairs. You can add, modify, and delete items using various methods. As:\n",
        "\n",
        "1) Adding Items in a Dictionary:- To add a new key-value pair, you simply design a value to a new key in the dictionary.\n",
        "\n",
        "Example:\n",
        "\n"
      ],
      "metadata": {
        "id": "qFI7_ptVaJaR"
      }
    },
    {
      "cell_type": "code",
      "source": [
        "# Creating a dictionary\n",
        "my_dict= {'Name': 'Priyanka', 'Age': 28}\n",
        "# Adding a new key-value pair\n",
        "my_dict['Location']= 'Delhi'\n",
        "print(my_dict)"
      ],
      "metadata": {
        "colab": {
          "base_uri": "https://localhost:8080/"
        },
        "id": "gSf83VmW6X2P",
        "outputId": "71463a4d-b059-41bd-863a-eb40dc061ac1"
      },
      "execution_count": null,
      "outputs": [
        {
          "output_type": "stream",
          "name": "stdout",
          "text": [
            "{'Name': 'Priyanka', 'Age': 28, 'Location': 'Delhi'}\n"
          ]
        }
      ]
    },
    {
      "cell_type": "markdown",
      "source": [
        "2) Modifying Items in a Dictionary:- To modifying an existing item, you access the keyand assign a new value.\n",
        "\n",
        "Example:"
      ],
      "metadata": {
        "id": "6eB1zGlv765e"
      }
    },
    {
      "cell_type": "code",
      "source": [
        "# Modifying the value of an existing key\n",
        "my_dict['Age']= 29\n",
        "print(my_dict)"
      ],
      "metadata": {
        "colab": {
          "base_uri": "https://localhost:8080/"
        },
        "id": "CvLiyC8l9lSh",
        "outputId": "104b1b76-2ea6-4935-bc2a-59f122db2b14"
      },
      "execution_count": null,
      "outputs": [
        {
          "output_type": "stream",
          "name": "stdout",
          "text": [
            "{'Name': 'Priyanka', 'Age': 29, 'Location': 'Delhi'}\n"
          ]
        }
      ]
    },
    {
      "cell_type": "markdown",
      "source": [
        "3) Deleting Items from a Dictionary:- User can delete an item using the delkeyword or the pop() method. The del keyword removes the item without returning it, while pop() removes the and returns the value of the key.\n",
        "\n",
        "Example 1: Using del()"
      ],
      "metadata": {
        "id": "kqPIr8vV-KZi"
      }
    },
    {
      "cell_type": "code",
      "source": [
        "# Deleting an item using del\n",
        "del my_dict[ 'Location' ]\n",
        "print(my_dict)"
      ],
      "metadata": {
        "colab": {
          "base_uri": "https://localhost:8080/"
        },
        "id": "XRv6fjfMFZeY",
        "outputId": "578d0aa6-1dd6-4e44-8967-a6e2996409ae"
      },
      "execution_count": null,
      "outputs": [
        {
          "output_type": "stream",
          "name": "stdout",
          "text": [
            "{'Name': 'Priyanka', 'Age': 29}\n"
          ]
        }
      ]
    },
    {
      "cell_type": "markdown",
      "source": [
        "Example 2: Using pop()"
      ],
      "metadata": {
        "id": "enX9vp3DHvsh"
      }
    },
    {
      "cell_type": "code",
      "source": [
        "# Deleting an item using pop\n",
        "age= my_dict,pop('age')\n",
        "print(my_dict)\n",
        "print(age)"
      ],
      "metadata": {
        "id": "Gsj2I3u9cWvz"
      },
      "execution_count": null,
      "outputs": []
    },
    {
      "cell_type": "markdown",
      "source": [
        "4) Clearing all elements in a dictionary:- User can remove all elements using the clear() method.\n",
        "\n",
        "Example:"
      ],
      "metadata": {
        "id": "yDgCBvLnNrVj"
      }
    },
    {
      "cell_type": "code",
      "source": [
        "# Clearing the dictionary\n",
        "my_dict.clear()\n",
        "print(my_dict)"
      ],
      "metadata": {
        "colab": {
          "base_uri": "https://localhost:8080/"
        },
        "id": "7MKdoR0qOI9H",
        "outputId": "96ff71b5-58c5-451a-cb1a-d29a08ec5f29"
      },
      "execution_count": null,
      "outputs": [
        {
          "output_type": "stream",
          "name": "stdout",
          "text": [
            "{}\n"
          ]
        }
      ]
    },
    {
      "cell_type": "markdown",
      "source": [
        "so these are the methods used in dictionaries for adding, modifying and deleting the elements."
      ],
      "metadata": {
        "id": "zUvO4uqhOdJ3"
      }
    },
    {
      "cell_type": "markdown",
      "source": [],
      "metadata": {
        "id": "3Zo4QqsAOuHw"
      }
    },
    {
      "cell_type": "markdown",
      "source": [
        "\n",
        "\n",
        "# 8) Discuss the importance of Dictionary keys being immutable and provide examples.\n",
        "\n",
        "Solution:-\n",
        "\n",
        "In Python, dictionary keys must be immutable because dictionaries relies on the hash values of keys to store and retrieve key-value pairs efficiently. Immutable objects have a constant hash value, which allows the dictionary to quickly look up alues based on keys. If keys were mutable, their hash value could change, disurpting the structure of dictionary and making key lookups unreliable.\n",
        "\n",
        "1) Hashing consistency:-\n",
        "\n",
        "*Python dictionaries use a hash table for storing data and the key's hash value determined where the corresponding value is stored.\n",
        "\n",
        "*Immutable keys (like strings, integers, tuples) have a fixed hash value which ensures that the key's position in the dictionary remains constant.\n",
        "\n",
        "*If a key were mutable and its value changed, the hash value would change, leading to incorrect or lost access to the associate value.\n",
        "\n",
        "Example:\n"
      ],
      "metadata": {
        "id": "1_BibiFLOuMs"
      }
    },
    {
      "cell_type": "code",
      "source": [
        "# valid: Integer(immutable) as a key\n",
        "my_dict= {1: 'one', 2:'two'}\n",
        "print(my_dict[1])"
      ],
      "metadata": {
        "colab": {
          "base_uri": "https://localhost:8080/"
        },
        "id": "95qJjRnbT3VZ",
        "outputId": "4a7c9640-1de2-48c7-bd60-0509d1a9e182"
      },
      "execution_count": null,
      "outputs": [
        {
          "output_type": "stream",
          "name": "stdout",
          "text": [
            "one\n"
          ]
        }
      ]
    },
    {
      "cell_type": "markdown",
      "source": [
        "2) Dictionary Integrity:- The immutability of keys ensures thet the dictionary remains stable and reliable. If the immutable keys were allowed, any changes to the key would disrupt the internal organisation of the dictionary.\n",
        "\n",
        "* Mutable keys such as lists, could change after being inserted,which would make it impossible for the dictionary to find the corresponding value.\n",
        "\n",
        "Example:"
      ],
      "metadata": {
        "id": "ocX9Q-BjUqfI"
      }
    },
    {
      "cell_type": "code",
      "source": [
        "# Invalid list(mutable) as a key\n",
        "my_dict= {[1,2,3]: 'numbers'} # This will raise a TypeError"
      ],
      "metadata": {
        "id": "xdvJPMe_VqMN"
      },
      "execution_count": null,
      "outputs": []
    },
    {
      "cell_type": "markdown",
      "source": [
        "3) Performance Optimization:-\n",
        "\n",
        "*Immutability ensures faster lookups because the hash value of a key remains constant throughout the life of a dictionary.\n",
        "*If mutable objects were allowed as keys, Python would need to continually recalculate hash values, reducing the performance of dictionary operations (like lookup, insert, and delete)\n",
        "\n",
        "4) Prevention of Logical Errors:-\n",
        "\n",
        "*By enforcing the use of immutable keys,python prevents hard-to-detect bugs that might occur if keys could be altered after insertion.\n",
        "\n",
        "* This reduces the likelihood of accidental key changes leading to data loss or incorrect lookups.\n",
        "\n",
        "Example:"
      ],
      "metadata": {
        "id": "YwwklNITWIV4"
      }
    },
    {
      "cell_type": "code",
      "source": [
        "#Valid: string (immutable) as a key\n",
        "my_dict= {'name': 'Priyanka'}\n",
        "print(my_dict['name'])"
      ],
      "metadata": {
        "colab": {
          "base_uri": "https://localhost:8080/"
        },
        "id": "asRUzKYVXuaN",
        "outputId": "32515f0a-9b7e-4b96-b5ce-b92788c038f8"
      },
      "execution_count": null,
      "outputs": [
        {
          "output_type": "stream",
          "name": "stdout",
          "text": [
            "Priyanka\n"
          ]
        }
      ]
    },
    {
      "cell_type": "markdown",
      "source": [
        "## Examples of Immutable keys:\n",
        "\n",
        "1) Integers:"
      ],
      "metadata": {
        "id": "KLpr50aOYcNl"
      }
    },
    {
      "cell_type": "code",
      "source": [
        "my_dict={42: 'answer'}\n",
        "print(my_dict[42])"
      ],
      "metadata": {
        "colab": {
          "base_uri": "https://localhost:8080/"
        },
        "id": "1MUWDDdbYtWI",
        "outputId": "c74a6289-7c33-440d-f8b5-d70217c5215b"
      },
      "execution_count": null,
      "outputs": [
        {
          "output_type": "stream",
          "name": "stdout",
          "text": [
            "answer\n"
          ]
        }
      ]
    },
    {
      "cell_type": "markdown",
      "source": [
        "2) Strings:\n"
      ],
      "metadata": {
        "id": "-dscQTn7ZCpJ"
      }
    },
    {
      "cell_type": "code",
      "source": [
        "my_dict= {'country': 'India'}\n",
        "print(my_dict['country'])"
      ],
      "metadata": {
        "colab": {
          "base_uri": "https://localhost:8080/"
        },
        "id": "_bc_lRFzZJ5D",
        "outputId": "2ec536f5-6507-4de3-f1d6-5087da03b742"
      },
      "execution_count": null,
      "outputs": [
        {
          "output_type": "stream",
          "name": "stdout",
          "text": [
            "India\n"
          ]
        }
      ]
    },
    {
      "cell_type": "markdown",
      "source": [
        "3) Tuples( if all elements are immutable):"
      ],
      "metadata": {
        "id": "Hw2x89Hvadp1"
      }
    },
    {
      "cell_type": "code",
      "source": [
        "my_dict= {(1,2): 'coordinates'}\n",
        "print(my_dict[(1,2)])"
      ],
      "metadata": {
        "colab": {
          "base_uri": "https://localhost:8080/"
        },
        "id": "tGtv_PNHap9y",
        "outputId": "4491f591-5f40-47c4-e1dc-ac5454557e41"
      },
      "execution_count": null,
      "outputs": [
        {
          "output_type": "stream",
          "name": "stdout",
          "text": [
            "coordinates\n"
          ]
        }
      ]
    },
    {
      "cell_type": "markdown",
      "source": [
        "Using immutable types like integers,strings, and tuples guarantees that dictionary operationsremains fast, reliable, and secure."
      ],
      "metadata": {
        "id": "3av6EtpebJB9"
      }
    }
  ]
}